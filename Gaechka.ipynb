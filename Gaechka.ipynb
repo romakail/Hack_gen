{
 "cells": [
  {
   "cell_type": "code",
   "execution_count": 1,
   "metadata": {},
   "outputs": [],
   "source": [
    "import pandas as pd\n",
    "%matplotlib inline"
   ]
  },
  {
   "cell_type": "code",
   "execution_count": 2,
   "metadata": {},
   "outputs": [],
   "source": [
    "#read data from csv files\n",
    "how_much = pd.read_csv('items_number.csv', sep = ';')\n",
    "items = pd.read_csv('items.csv', sep = ';')\n",
    "paths = pd.read_csv('paths.csv', sep = ';')\n",
    "machines = pd.read_csv('machines.csv', sep = ',')\n",
    "norm_times = pd.read_csv('norm_time.csv', sep = ';')\n",
    "setup_times = pd.read_csv('setup_time.csv', sep = ';')"
   ]
  },
  {
   "cell_type": "code",
   "execution_count": 3,
   "metadata": {},
   "outputs": [],
   "source": [
    "#some setups to correct data\n",
    "setup_times.fillna(value = 10, inplace = True) #fill blank fields\n",
    "norm_times.fillna(value = '-', inplace = True)\n",
    "paths.fillna(value = -1, inplace = True)\n",
    "how_much = how_much[0:72] #cut useless definitions\n",
    "\n",
    "pd.options.display.max_rows = 100\n",
    "N_DETAILS = 72\n",
    "N_MACHINES = 10"
   ]
  },
  {
   "cell_type": "code",
   "execution_count": 4,
   "metadata": {},
   "outputs": [
    {
     "data": {
      "text/html": [
       "<div>\n",
       "<style scoped>\n",
       "    .dataframe tbody tr th:only-of-type {\n",
       "        vertical-align: middle;\n",
       "    }\n",
       "\n",
       "    .dataframe tbody tr th {\n",
       "        vertical-align: top;\n",
       "    }\n",
       "\n",
       "    .dataframe thead th {\n",
       "        text-align: right;\n",
       "    }\n",
       "</style>\n",
       "<table border=\"1\" class=\"dataframe\">\n",
       "  <thead>\n",
       "    <tr style=\"text-align: right;\">\n",
       "      <th></th>\n",
       "      <th>№</th>\n",
       "      <th>Название</th>\n",
       "      <th>Тип</th>\n",
       "    </tr>\n",
       "  </thead>\n",
       "  <tbody>\n",
       "    <tr>\n",
       "      <th>0</th>\n",
       "      <td>1</td>\n",
       "      <td>Станок №1</td>\n",
       "      <td>Пила</td>\n",
       "    </tr>\n",
       "    <tr>\n",
       "      <th>1</th>\n",
       "      <td>2</td>\n",
       "      <td>Станок №2</td>\n",
       "      <td>Плазменная</td>\n",
       "    </tr>\n",
       "    <tr>\n",
       "      <th>2</th>\n",
       "      <td>3</td>\n",
       "      <td>Станок №3</td>\n",
       "      <td>Токарный</td>\n",
       "    </tr>\n",
       "    <tr>\n",
       "      <th>3</th>\n",
       "      <td>4</td>\n",
       "      <td>Станок №4</td>\n",
       "      <td>Токарный</td>\n",
       "    </tr>\n",
       "    <tr>\n",
       "      <th>4</th>\n",
       "      <td>5</td>\n",
       "      <td>Станок №5</td>\n",
       "      <td>Фрезерный</td>\n",
       "    </tr>\n",
       "    <tr>\n",
       "      <th>5</th>\n",
       "      <td>6</td>\n",
       "      <td>Станок №6</td>\n",
       "      <td>Фрезерный</td>\n",
       "    </tr>\n",
       "    <tr>\n",
       "      <th>6</th>\n",
       "      <td>7</td>\n",
       "      <td>Станок №7</td>\n",
       "      <td>Сверление</td>\n",
       "    </tr>\n",
       "    <tr>\n",
       "      <th>7</th>\n",
       "      <td>8</td>\n",
       "      <td>Станок №8</td>\n",
       "      <td>Сверление</td>\n",
       "    </tr>\n",
       "    <tr>\n",
       "      <th>8</th>\n",
       "      <td>9</td>\n",
       "      <td>Станок №9</td>\n",
       "      <td>Сварка</td>\n",
       "    </tr>\n",
       "    <tr>\n",
       "      <th>9</th>\n",
       "      <td>10</td>\n",
       "      <td>Станок №10</td>\n",
       "      <td>Окраска</td>\n",
       "    </tr>\n",
       "  </tbody>\n",
       "</table>\n",
       "</div>"
      ],
      "text/plain": [
       "    №    Название         Тип\n",
       "0   1   Станок №1        Пила\n",
       "1   2   Станок №2  Плазменная\n",
       "2   3   Станок №3    Токарный\n",
       "3   4   Станок №4    Токарный\n",
       "4   5   Станок №5   Фрезерный\n",
       "5   6   Станок №6   Фрезерный\n",
       "6   7   Станок №7   Сверление\n",
       "7   8   Станок №8   Сверление\n",
       "8   9   Станок №9      Сварка\n",
       "9  10  Станок №10     Окраска"
      ]
     },
     "execution_count": 4,
     "metadata": {},
     "output_type": "execute_result"
    }
   ],
   "source": [
    "machines.head(15)\n",
    "unique_machines = {'Пила' : 0, 'Плазменная' : 1, 'Токарный' : 2, 'Фрезерный' : 3, \n",
    "                   'Сверление' : 4, 'Сварка' : 5, 'Окраска' : 6}\n",
    "paths.replace(unique_machines, inplace = True)\n",
    "machines.head(10)"
   ]
  },
  {
   "cell_type": "code",
   "execution_count": 5,
   "metadata": {},
   "outputs": [],
   "source": [
    "class step:\n",
    "    def __init__(self, machine, time, setup):\n",
    "        self.machine_ = machine\n",
    "        self.time_ = time\n",
    "        self.setup_ = setup"
   ]
  },
  {
   "cell_type": "code",
   "execution_count": 6,
   "metadata": {},
   "outputs": [],
   "source": [
    "class detail_type:\n",
    "    def __init__(self, n, path, n_steps): #path - is an array of class step\n",
    "        self.number_ = n\n",
    "        self.n_steps_ = n_steps\n",
    "        self.path_ = path"
   ]
  },
  {
   "cell_type": "code",
   "execution_count": 7,
   "metadata": {},
   "outputs": [],
   "source": [
    "class dtype_state:\n",
    "    def __init__(self, detail_type, n_to_do):\n",
    "        self.detail_type_ = detail_type\n",
    "        self.n_to_do_ = n_to_do\n",
    "        self.n_done_ = 0\n",
    "        self.details_progress_ = [detail(detail_type.n_steps_) for i in range(n_to_do)] #array of details\n",
    "        self.needed_details_ = [] #-1 if simple detail; array of 'sub'-details if complex"
   ]
  },
  {
   "cell_type": "code",
   "execution_count": 8,
   "metadata": {},
   "outputs": [],
   "source": [
    "class detail:\n",
    "    def __init__(self, n_steps):\n",
    "        self.progress_ = [0 for i in range(n_steps)]    #array the same size as detail_type.route - \n",
    "                                                        #minutes spent on every machine\n",
    "        self.done_ = [0 for i in range(n_steps)]        #boolean array to check if work on the machine is done"
   ]
  },
  {
   "cell_type": "code",
   "execution_count": 9,
   "metadata": {},
   "outputs": [
    {
     "name": "stdout",
     "output_type": "stream",
     "text": [
      "2\n",
      "hi\n"
     ]
    }
   ],
   "source": [
    "State = [] #array of dtype_states\n",
    "\n",
    "for i in range(N_DETAILS):        # in this cycle we initialize State\n",
    "    #make path for the type\n",
    "    j = 2\n",
    "    path = []\n",
    "    machine_type = paths.iloc[i + 1, j]\n",
    "    while machine_type != -1:\n",
    "        one_step = step(machine_type, \n",
    "                    norm_times.iloc[i, machine_type + 2],\n",
    "                   setup_times.iloc[i, machine_type + 2])\n",
    "        path.append(one_step)\n",
    "        j += 1\n",
    "        if j > 6:\n",
    "            break\n",
    "        machine_type = paths.iloc[i + 1, j]\n",
    "        \n",
    "    this_type = detail_type(i, path, j - 2)\n",
    "    \n",
    "    n_to_do = how_much['Кол-во'][i]\n",
    "    state_elem = dtype_state(this_type, int(n_to_do))\n",
    "    State.append(state_elem)\n",
    "    \n",
    "for i in range(N_DETAILS):\n",
    "    rest = int ((how_much.iloc[i, 0] * 10) % 10)\n",
    "    if rest != 0:\n",
    "        State[i - rest].needed_details_.append(i)\n",
    "    \n",
    "# print(State[71].detail_type_.path_[0].machine_)\n",
    "# print(\"hi\")\n"
   ]
  },
  {
   "cell_type": "code",
   "execution_count": 10,
   "metadata": {},
   "outputs": [],
   "source": [
    "class machine:\n",
    "    def __init__(self, mtype):\n",
    "        self.machine_type_ = mtype\n",
    "        self.processing_detail_ = [-1, -1] #[0] - type of the detail and [1] - number in details_progress array\n",
    "    def what_available():\n",
    "        pass"
   ]
  },
  {
   "cell_type": "code",
   "execution_count": 11,
   "metadata": {},
   "outputs": [],
   "source": [
    "Factory = [] #array of machines\n",
    "\n",
    "for i in range(N_MACHINES):\n",
    "    mtype = unique_machines[machines.iloc[i, 2]]\n",
    "    Factory.append(machine(mtype))"
   ]
  },
  {
   "cell_type": "code",
   "execution_count": null,
   "metadata": {},
   "outputs": [],
   "source": []
  },
  {
   "cell_type": "code",
   "execution_count": null,
   "metadata": {},
   "outputs": [],
   "source": []
  },
  {
   "cell_type": "code",
   "execution_count": null,
   "metadata": {},
   "outputs": [],
   "source": []
  }
 ],
 "metadata": {
  "kernelspec": {
   "display_name": "Python 3",
   "language": "python",
   "name": "python3"
  },
  "language_info": {
   "codemirror_mode": {
    "name": "ipython",
    "version": 3
   },
   "file_extension": ".py",
   "mimetype": "text/x-python",
   "name": "python",
   "nbconvert_exporter": "python",
   "pygments_lexer": "ipython3",
   "version": "3.7.2"
  }
 },
 "nbformat": 4,
 "nbformat_minor": 2
}
