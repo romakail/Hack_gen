{
 "cells": [
  {
   "cell_type": "code",
   "execution_count": 61,
   "metadata": {},
   "outputs": [],
   "source": [
    "import pandas as pd\n",
    "%matplotlib inline"
   ]
  },
  {
   "cell_type": "code",
   "execution_count": 62,
   "metadata": {},
   "outputs": [],
   "source": [
    "#read data from csv files\n",
    "how_much = pd.read_csv('items_number.csv', sep = ';')\n",
    "items = pd.read_csv('items.csv', sep = ';')\n",
    "paths = pd.read_csv('paths.csv', sep = ';')\n",
    "machines = pd.read_csv('machines.csv', sep = ';')\n",
    "norm_times = pd.read_csv('norm_time.csv', sep = ';')\n",
    "setup_times = pd.read_csv('setup_time.csv', sep = ';')"
   ]
  },
  {
   "cell_type": "code",
   "execution_count": 95,
   "metadata": {},
   "outputs": [],
   "source": [
    "#some setups to correct data\n",
    "setup_times.fillna(value = 10, inplace = True) #fill blank fields\n",
    "norm_times.fillna(value = '-', inplace = True)\n",
    "paths.fillna(value = '-', inplace = True)\n",
    "how_much = how_much[0:72] #cut useless definitions\n",
    "\n",
    "pd.options.display.max_rows = 100"
   ]
  },
  {
   "cell_type": "code",
   "execution_count": 102,
   "metadata": {},
   "outputs": [
    {
     "data": {
      "text/html": [
       "<div>\n",
       "<style scoped>\n",
       "    .dataframe tbody tr th:only-of-type {\n",
       "        vertical-align: middle;\n",
       "    }\n",
       "\n",
       "    .dataframe tbody tr th {\n",
       "        vertical-align: top;\n",
       "    }\n",
       "\n",
       "    .dataframe thead th {\n",
       "        text-align: right;\n",
       "    }\n",
       "</style>\n",
       "<table border=\"1\" class=\"dataframe\">\n",
       "  <thead>\n",
       "    <tr style=\"text-align: right;\">\n",
       "      <th></th>\n",
       "      <th>№</th>\n",
       "      <th>Номенклатура</th>\n",
       "      <th>Тип оборудования</th>\n",
       "      <th>Unnamed: 3</th>\n",
       "      <th>Unnamed: 4</th>\n",
       "      <th>Unnamed: 5</th>\n",
       "      <th>Unnamed: 6</th>\n",
       "    </tr>\n",
       "  </thead>\n",
       "  <tbody>\n",
       "    <tr>\n",
       "      <th>0</th>\n",
       "      <td>-</td>\n",
       "      <td>-</td>\n",
       "      <td>операция 1</td>\n",
       "      <td>операция 2</td>\n",
       "      <td>операция 3</td>\n",
       "      <td>операция 4</td>\n",
       "      <td>операция 5</td>\n",
       "    </tr>\n",
       "    <tr>\n",
       "      <th>1</th>\n",
       "      <td>1</td>\n",
       "      <td>Переходник 1</td>\n",
       "      <td>5</td>\n",
       "      <td>6</td>\n",
       "      <td>-</td>\n",
       "      <td>-</td>\n",
       "      <td>-</td>\n",
       "    </tr>\n",
       "    <tr>\n",
       "      <th>2</th>\n",
       "      <td>1.1</td>\n",
       "      <td>Муфта А1</td>\n",
       "      <td>0</td>\n",
       "      <td>2</td>\n",
       "      <td>3</td>\n",
       "      <td>4</td>\n",
       "      <td>-</td>\n",
       "    </tr>\n",
       "    <tr>\n",
       "      <th>3</th>\n",
       "      <td>1.2</td>\n",
       "      <td>Муфта А2</td>\n",
       "      <td>0</td>\n",
       "      <td>2</td>\n",
       "      <td>3</td>\n",
       "      <td>4</td>\n",
       "      <td>-</td>\n",
       "    </tr>\n",
       "    <tr>\n",
       "      <th>4</th>\n",
       "      <td>2</td>\n",
       "      <td>Переходник 2</td>\n",
       "      <td>5</td>\n",
       "      <td>6</td>\n",
       "      <td>-</td>\n",
       "      <td>-</td>\n",
       "      <td>-</td>\n",
       "    </tr>\n",
       "  </tbody>\n",
       "</table>\n",
       "</div>"
      ],
      "text/plain": [
       "     №  Номенклатура Тип оборудования  Unnamed: 3  Unnamed: 4  Unnamed: 5  \\\n",
       "0    -             -       операция 1  операция 2  операция 3  операция 4   \n",
       "1    1  Переходник 1                5           6           -           -   \n",
       "2  1.1      Муфта А1                0           2           3           4   \n",
       "3  1.2      Муфта А2                0           2           3           4   \n",
       "4    2  Переходник 2                5           6           -           -   \n",
       "\n",
       "   Unnamed: 6  \n",
       "0  операция 5  \n",
       "1           -  \n",
       "2           -  \n",
       "3           -  \n",
       "4           -  "
      ]
     },
     "execution_count": 102,
     "metadata": {},
     "output_type": "execute_result"
    }
   ],
   "source": [
    "machines.head(15)\n",
    "unique_machines = {'Пила' : 0, 'Плазменная' : 1, 'Токарный' : 2, 'Фрезерный' : 3, \n",
    "                   'Сверление' : 4, 'Сварка' : 5, 'Окраска' : 6}\n",
    "cols = {'Тип оборудования' : 0, 'Unnamed: 3'}\n",
    "paths.replace(unique_machines, inplace = True)\n",
    "paths.replace()\n",
    "paths.head()"
   ]
  },
  {
   "cell_type": "code",
   "execution_count": 75,
   "metadata": {},
   "outputs": [],
   "source": [
    "class step:\n",
    "    def __init__(self, machine, time, setup):\n",
    "        self.machine_ = machine\n",
    "        self.time_ = time\n",
    "        self.setup_ = setup"
   ]
  },
  {
   "cell_type": "code",
   "execution_count": 76,
   "metadata": {},
   "outputs": [],
   "source": [
    "class detail_type:\n",
    "    def __init__(self, n, path): #path - is an array of class step\n",
    "        self.number_ = n\n",
    "        self.path_ = path"
   ]
  },
  {
   "cell_type": "code",
   "execution_count": 77,
   "metadata": {},
   "outputs": [],
   "source": [
    "class dtype_state:\n",
    "    def __init__(self, detail_type, n_to_do):\n",
    "        self.detail_type_ = detail_type\n",
    "        self.n_to_do_ = n_to_do\n",
    "        self.n_done_ = 0\n",
    "        self.details_progress_ = [] #array of details\n",
    "        self.needed_details_ = [] #-1 if simple detail; array of 'sub'-details if complex"
   ]
  },
  {
   "cell_type": "code",
   "execution_count": 78,
   "metadata": {},
   "outputs": [],
   "source": [
    "class detail:\n",
    "    def __init__(self):\n",
    "        self.progress_ = [] #array the same size as detail_type.route - minutes spent on every machine\n",
    "        self.done_ = [] #boolean array to check if work on the machine is done"
   ]
  },
  {
   "cell_type": "code",
   "execution_count": 79,
   "metadata": {},
   "outputs": [],
   "source": [
    "class machine:\n",
    "    def __init__(self):\n",
    "        self.machine_type_ = -1 \n",
    "        self.processing_detail_ = [-1, -1] #[0] - type of the detail and [1] - number in details_progress array"
   ]
  },
  {
   "cell_type": "code",
   "execution_count": 80,
   "metadata": {},
   "outputs": [
    {
     "ename": "TypeError",
     "evalue": "__init__() missing 2 required positional arguments: 'n' and 'path'",
     "output_type": "error",
     "traceback": [
      "\u001b[0;31m---------------------------------------------------------------------------\u001b[0m",
      "\u001b[0;31mTypeError\u001b[0m                                 Traceback (most recent call last)",
      "\u001b[0;32m<ipython-input-80-a1e44dd6c7b4>\u001b[0m in \u001b[0;36m<module>\u001b[0;34m\u001b[0m\n\u001b[1;32m      3\u001b[0m \u001b[0;32mfor\u001b[0m \u001b[0mi\u001b[0m \u001b[0;32min\u001b[0m \u001b[0mrange\u001b[0m\u001b[0;34m(\u001b[0m\u001b[0;36m72\u001b[0m\u001b[0;34m)\u001b[0m\u001b[0;34m:\u001b[0m\u001b[0;34m\u001b[0m\u001b[0;34m\u001b[0m\u001b[0m\n\u001b[1;32m      4\u001b[0m     \u001b[0mn_to_do\u001b[0m \u001b[0;34m=\u001b[0m \u001b[0mhow_much\u001b[0m\u001b[0;34m[\u001b[0m\u001b[0;34m'Кол-во'\u001b[0m\u001b[0;34m]\u001b[0m\u001b[0;34m[\u001b[0m\u001b[0mi\u001b[0m\u001b[0;34m]\u001b[0m\u001b[0;34m\u001b[0m\u001b[0;34m\u001b[0m\u001b[0m\n\u001b[0;32m----> 5\u001b[0;31m     \u001b[0mdetail_type\u001b[0m \u001b[0;34m=\u001b[0m \u001b[0mdetail_type\u001b[0m\u001b[0;34m(\u001b[0m\u001b[0;34m)\u001b[0m\u001b[0;34m\u001b[0m\u001b[0;34m\u001b[0m\u001b[0m\n\u001b[0m\u001b[1;32m      6\u001b[0m     \u001b[0mdetail_type\u001b[0m\u001b[0;34m.\u001b[0m\u001b[0mpath_\u001b[0m\u001b[0;34m\u001b[0m\u001b[0;34m\u001b[0m\u001b[0m\n\u001b[1;32m      7\u001b[0m     \u001b[0mstate_elem\u001b[0m \u001b[0;34m=\u001b[0m \u001b[0mdtype_state\u001b[0m\u001b[0;34m(\u001b[0m\u001b[0mdetail_type\u001b[0m\u001b[0;34m,\u001b[0m \u001b[0mn_to_do\u001b[0m\u001b[0;34m)\u001b[0m\u001b[0;34m\u001b[0m\u001b[0;34m\u001b[0m\u001b[0m\n",
      "\u001b[0;31mTypeError\u001b[0m: __init__() missing 2 required positional arguments: 'n' and 'path'"
     ]
    }
   ],
   "source": [
    "State = [] #array of dtype_states\n",
    "Factory = [] #array of machines\n",
    "for i in range(72):\n",
    "    for j in range():\n",
    "        step = step(paths[][i + 1])\n",
    "        path.append()\n",
    "        \n",
    "    detail_type = detail_type(i, path)\n",
    "    \n",
    "    n_to_do = how_much['Кол-во'][i]\n",
    "    state_elem = dtype_state(detail_type, n_to_do)\n",
    "    State.append(state_elem)\n"
   ]
  },
  {
   "cell_type": "code",
   "execution_count": null,
   "metadata": {},
   "outputs": [],
   "source": []
  }
 ],
 "metadata": {
  "kernelspec": {
   "display_name": "Python 3",
   "language": "python",
   "name": "python3"
  },
  "language_info": {
   "codemirror_mode": {
    "name": "ipython",
    "version": 3
   },
   "file_extension": ".py",
   "mimetype": "text/x-python",
   "name": "python",
   "nbconvert_exporter": "python",
   "pygments_lexer": "ipython3",
   "version": "3.7.2"
  }
 },
 "nbformat": 4,
 "nbformat_minor": 2
}
